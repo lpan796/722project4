{
 "cells": [
  {
   "cell_type": "code",
   "execution_count": 1,
   "metadata": {},
   "outputs": [],
   "source": [
    "import findspark\n",
    "findspark.init('/home/ubuntu/spark-2.1.1-bin-hadoop2.7')\n",
    "import pyspark\n",
    "import numpy as np\n",
    "\n",
    "from pyspark.sql import SparkSession\n",
    "from pyspark.sql.functions import *\n",
    "spark = SparkSession.builder.appName('Preparation').getOrCreate()"
   ]
  },
  {
   "cell_type": "code",
   "execution_count": 2,
   "metadata": {},
   "outputs": [],
   "source": [
    "train_users = spark.read.csv('train_users_2.csv',header=True,inferSchema=True)\n",
    "session= spark.read.csv('sessions.csv',header=True,inferSchema=True)\n",
    "session=session.filter('secs_elapsed<19402')\n",
    "session=session.na.drop(subset=['secs_elapsed'])"
   ]
  },
  {
   "cell_type": "code",
   "execution_count": 3,
   "metadata": {},
   "outputs": [],
   "source": [
    "import pyspark.sql.functions as func\n",
    "session_1=session.groupBy('user_id').agg(func.countDistinct('device_type'))\n",
    "session_1=session_1.select('*').withColumn('user_id_1',session_1['user_id'])\n",
    "session_1=session_1.drop('user_id')"
   ]
  },
  {
   "cell_type": "code",
   "execution_count": 4,
   "metadata": {},
   "outputs": [],
   "source": [
    "session_2=session.groupBy('user_id').agg({'action':'count','secs_elapsed':'sum'})\n",
    "session_2=session_2.join(session_1,session_2.user_id== session_1.user_id_1)"
   ]
  },
  {
   "cell_type": "code",
   "execution_count": 5,
   "metadata": {},
   "outputs": [],
   "source": [
    "session_2 = session_2.select(col('user_id'),col('count(action)').alias('dfaction'),\n",
    "                             col('count(DISTINCT device_type)').alias('dftype'),col('sum(secs_elapsed)').alias('secs'))"
   ]
  },
  {
   "cell_type": "code",
   "execution_count": 7,
   "metadata": {},
   "outputs": [],
   "source": [
    "train_users=train_users.join(session_2,train_users.id== session_2.user_id)"
   ]
  },
  {
   "cell_type": "code",
   "execution_count": 8,
   "metadata": {},
   "outputs": [],
   "source": [
    "train_users=train_users.na.fill(37,subset=['age'])\n",
    "train_users=train_users.filter('age<114 AND age>18')"
   ]
  },
  {
   "cell_type": "code",
   "execution_count": 9,
   "metadata": {},
   "outputs": [],
   "source": [
    "train_users=train_users.drop('date_account_created','timestamp_first_active','date_first_booking','first_browser','user_id')\n",
    "train_users=train_users.na.drop()"
   ]
  },
  {
   "cell_type": "code",
   "execution_count": 10,
   "metadata": {},
   "outputs": [],
   "source": [
    "def del_unknown(data):\n",
    "    # fill_attrs = [\"default\"]\n",
    "    del_attrs = ['gender']\n",
    "    for i in del_attrs: \n",
    "        # delete col containing unknown\n",
    "        data = data[data[i] != '-unknown-']  \n",
    "    return data"
   ]
  },
  {
   "cell_type": "code",
   "execution_count": 11,
   "metadata": {},
   "outputs": [],
   "source": [
    "train_users=del_unknown(train_users)"
   ]
  },
  {
   "cell_type": "code",
   "execution_count": 12,
   "metadata": {},
   "outputs": [],
   "source": [
    "train_users = train_users.withColumn('gender', regexp_replace('gender', 'OTHER', 'NaN'))"
   ]
  },
  {
   "cell_type": "code",
   "execution_count": 13,
   "metadata": {},
   "outputs": [],
   "source": [
    "def del_nan(data):\n",
    "    # fill_attrs = [\"default\"]\n",
    "    del_attrs = ['gender']\n",
    "    for i in del_attrs: \n",
    "        # delete col containing unknown\n",
    "        data = data[data[i] != \"NaN\"]  \n",
    "    return data"
   ]
  },
  {
   "cell_type": "code",
   "execution_count": 14,
   "metadata": {},
   "outputs": [],
   "source": [
    "train_users=del_nan(train_users)"
   ]
  },
  {
   "cell_type": "code",
   "execution_count": 15,
   "metadata": {},
   "outputs": [],
   "source": [
    "from pyspark.sql.functions import udf \n",
    "diclanguage={'en':0,'hr':1,'ca':5,'is':6,\n",
    "                                'fi' :7, 'hu' :8, \n",
    "                                'id' :9,'th': 10,'el':11,'no':12,'cs':13,\n",
    "                                'pl' :14, 'da' :15, 'tr' :16, 'nl' :17, 'sv' :18, 'ja' :19, 'pt' :20, 'ru' :20,\n",
    "              'it' :21, 'de' :22, 'ko' :23, 'es' :4, 'fr' :3, 'zh' :2}\n",
    "def Simplelanguage(oldlanguage):\n",
    "    return diclanguage[oldlanguage] \n",
    "\n",
    "from pyspark.sql.types import IntegerType\n",
    "square_udf_language = udf(lambda z: Simplelanguage(z), IntegerType())\n",
    "train_users = train_users.select(\"*\").withColumn(\"df_language\", square_udf_language(train_users[\"language\"]))"
   ]
  },
  {
   "cell_type": "code",
   "execution_count": 17,
   "metadata": {},
   "outputs": [],
   "source": [
    "from pyspark.sql.functions import udf \n",
    "dicaffiliate_channel={'direct':0,'sem-brand':1,'remarketing':4,\n",
    "                                'content' :5, 'api':7, \n",
    "                                'seo' :6,'sem-non-brand':2,'other':3}\n",
    "def Simpleaffiliate_channel(oldlanguage):\n",
    "    return dicaffiliate_channel[oldlanguage] \n",
    "\n",
    "from pyspark.sql.types import IntegerType\n",
    "square_udf_affiliate_channel = udf(lambda z: Simpleaffiliate_channel(z), IntegerType())\n",
    "train_users = train_users.select(\"*\").withColumn(\"df_affiliate_channel\", square_udf_affiliate_channel(train_users[\"affiliate_channel\"]))"
   ]
  },
  {
   "cell_type": "code",
   "execution_count": 19,
   "metadata": {},
   "outputs": [],
   "source": [
    "from pyspark.sql.functions import udf \n",
    "dicProvider={'direct': 0,'google':1,'other':3,'daum':2,'wayn':2,'yandex':2,'baidu':2,'naver':2,'email-marketing':2,'meetup':2,\n",
    "              'gsp': 2,'yahoo': 2,'facebook-open-graph': 2,'padmapper': 2,'vast': 2,'facebook': 6,'bing': 5,'craigslist':4}\n",
    "def SimpleProvider(oldEducation):\n",
    "    return dicProvider[oldEducation] \n",
    "\n",
    "from pyspark.sql.types import IntegerType\n",
    "square_udf_P= udf(lambda z: SimpleProvider(z), IntegerType())\n",
    "train_users = train_users.select(\"*\").withColumn(\"df_affiliate_provider\", square_udf_P(train_users[\"affiliate_provider\"]))"
   ]
  },
  {
   "cell_type": "code",
   "execution_count": 21,
   "metadata": {},
   "outputs": [],
   "source": [
    "from pyspark.sql.functions import udf \n",
    "dictracked={'untracked': 0,'linked':1,'omg':2,'local ops':3,'marketing':4,'product':5,'tracked-other':6,'other':7}\n",
    "def Simpletracked(oldEducation):\n",
    "    return dictracked[oldEducation] \n",
    "\n",
    "from pyspark.sql.types import IntegerType\n",
    "square_udf_tracked= udf(lambda z: Simpletracked(z), IntegerType())\n",
    "train_users = train_users.select(\"*\").withColumn(\"df_first_affiliate_tracked\", square_udf_tracked(train_users[\"first_affiliate_tracked\"]))"
   ]
  },
  {
   "cell_type": "code",
   "execution_count": 23,
   "metadata": {},
   "outputs": [],
   "source": [
    "from pyspark.sql.functions import udf \n",
    "dicfirst_device_type={'Mac':0,'Windows':1,'iPad':2,'SmartPhone':3,\n",
    "                                'Desktop' :4, 'Android Phone' :5, \n",
    "                                'Android Tablet':5,'iPhone': 2,'Other/Unknown':6}\n",
    "def Simplefirst_device_type(oldEducation):\n",
    "    return dicfirst_device_type[oldEducation] \n",
    "\n",
    "from pyspark.sql.types import IntegerType\n",
    "square_udf_first_device_type = udf(lambda z: Simplefirst_device_type(z), IntegerType())\n",
    "train_users = train_users.select(\"*\").withColumn(\"df_first_device_type\", square_udf_first_device_type(train_users[\"first_device_type\"]))"
   ]
  },
  {
   "cell_type": "code",
   "execution_count": 25,
   "metadata": {},
   "outputs": [],
   "source": [
    "from pyspark.sql.functions import udf \n",
    "dicG={'FEMALE':0,'MALE':1}\n",
    "def SimpleG(oldEducation):\n",
    "    return dicG[oldEducation] \n",
    "\n",
    "from pyspark.sql.types import IntegerType\n",
    "square_udf_G = udf(lambda z: SimpleG(z), IntegerType())\n",
    "train_users = train_users.select(\"*\").withColumn(\"df_gender\", square_udf_G(train_users[\"gender\"]))"
   ]
  },
  {
   "cell_type": "code",
   "execution_count": 26,
   "metadata": {},
   "outputs": [],
   "source": [
    "from pyspark.sql.functions import udf \n",
    "dicM={'basic':0,'facebook':1,'google':2}\n",
    "def SimpleM(oldEducation):\n",
    "    return dicM[oldEducation] \n",
    "\n",
    "from pyspark.sql.types import IntegerType\n",
    "square_udf_M = udf(lambda z: SimpleM(z), IntegerType())\n",
    "train_users = train_users.select(\"*\").withColumn(\"df_signup_method\", square_udf_M(train_users[\"signup_method\"]))"
   ]
  },
  {
   "cell_type": "code",
   "execution_count": 27,
   "metadata": {},
   "outputs": [],
   "source": [
    "from pyspark.sql.functions import udf \n",
    "dica={'Android':0,'Moweb':1,'Web':2,'iOS':3}\n",
    "def Simplea(oldEducation):\n",
    "    return dica[oldEducation] \n",
    "\n",
    "from pyspark.sql.types import IntegerType\n",
    "square_udf_a = udf(lambda z: Simplea(z), IntegerType())\n",
    "train_users = train_users.select(\"*\").withColumn(\"df_signup_app\", square_udf_a(train_users[\"signup_app\"]))"
   ]
  },
  {
   "cell_type": "code",
   "execution_count": 29,
   "metadata": {},
   "outputs": [],
   "source": [
    "from pyspark.sql.functions import udf \n",
    "dicu={'NDF':0,'US':1,'other':1,'FR':1,\n",
    "                                'IT' :1, 'GB' :1, \n",
    "                                'ES' :1,'DE': 1,'CA':1,'AU':1,'PT':1,\n",
    "                                'NL' :1}\n",
    "def Simpleu(oldEducation):\n",
    "    return dicu[oldEducation] \n",
    "\n",
    "from pyspark.sql.types import IntegerType\n",
    "square_udf_u = udf(lambda z: Simpleu(z), IntegerType())\n",
    "train_users = train_users.select(\"*\").withColumn(\"label\", square_udf_u(train_users[\"country_destination\"]))"
   ]
  },
  {
   "cell_type": "code",
   "execution_count": 31,
   "metadata": {},
   "outputs": [
    {
     "name": "stdout",
     "output_type": "stream",
     "text": [
      "+----------------+------------+\n",
      "|df_signup_method|count(label)|\n",
      "+----------------+------------+\n",
      "|               1|       17507|\n",
      "|               2|          98|\n",
      "|               0|       17419|\n",
      "+----------------+------------+\n",
      "\n"
     ]
    }
   ],
   "source": [
    "df=train_users.groupBy('df_signup_method').agg({'label':'count'})\n",
    "df.show()"
   ]
  },
  {
   "cell_type": "code",
   "execution_count": 32,
   "metadata": {},
   "outputs": [
    {
     "name": "stdout",
     "output_type": "stream",
     "text": [
      "+----------------+-----+------------+\n",
      "|df_signup_method|label|count(label)|\n",
      "+----------------+-----+------------+\n",
      "|               1|    0|       10872|\n",
      "|               1|    1|        6635|\n",
      "|               0|    0|        6174|\n",
      "|               2|    1|          52|\n",
      "|               0|    1|       11245|\n",
      "|               2|    0|          46|\n",
      "+----------------+-----+------------+\n",
      "\n"
     ]
    }
   ],
   "source": [
    "df=train_users.groupBy('df_signup_method','label').agg({'label':'count'})\n",
    "df.show()"
   ]
  },
  {
   "cell_type": "code",
   "execution_count": 31,
   "metadata": {},
   "outputs": [],
   "source": [
    "train_users=train_users.na.drop()"
   ]
  },
  {
   "cell_type": "markdown",
   "metadata": {},
   "source": [
    "Now, to data mining.."
   ]
  },
  {
   "cell_type": "code",
   "execution_count": 33,
   "metadata": {},
   "outputs": [
    {
     "data": {
      "text/plain": [
       "[('id', 'string'),\n",
       " ('gender', 'string'),\n",
       " ('age', 'double'),\n",
       " ('signup_method', 'string'),\n",
       " ('signup_flow', 'int'),\n",
       " ('language', 'string'),\n",
       " ('affiliate_channel', 'string'),\n",
       " ('affiliate_provider', 'string'),\n",
       " ('first_affiliate_tracked', 'string'),\n",
       " ('signup_app', 'string'),\n",
       " ('first_device_type', 'string'),\n",
       " ('country_destination', 'string'),\n",
       " ('dfaction', 'bigint'),\n",
       " ('dftype', 'bigint'),\n",
       " ('secs', 'double'),\n",
       " ('df_language', 'int'),\n",
       " ('df_affiliate_channel', 'int'),\n",
       " ('df_affiliate_provider', 'int'),\n",
       " ('df_first_affiliate_tracked', 'int'),\n",
       " ('df_first_device_type', 'int'),\n",
       " ('df_gender', 'int'),\n",
       " ('df_signup_method', 'int'),\n",
       " ('df_signup_app', 'int'),\n",
       " ('label', 'int')]"
      ]
     },
     "execution_count": 33,
     "metadata": {},
     "output_type": "execute_result"
    }
   ],
   "source": [
    "train_users.dtypes"
   ]
  },
  {
   "cell_type": "code",
   "execution_count": 34,
   "metadata": {},
   "outputs": [
    {
     "data": {
      "text/plain": [
       "[('age', 'double'),\n",
       " ('signup_flow', 'int'),\n",
       " ('dfaction', 'bigint'),\n",
       " ('dftype', 'bigint'),\n",
       " ('secs', 'double'),\n",
       " ('df_language', 'int'),\n",
       " ('df_affiliate_channel', 'int'),\n",
       " ('df_affiliate_provider', 'int'),\n",
       " ('df_first_affiliate_tracked', 'int'),\n",
       " ('df_first_device_type', 'int'),\n",
       " ('df_gender', 'int'),\n",
       " ('df_signup_method', 'int'),\n",
       " ('df_signup_app', 'int'),\n",
       " ('label', 'int')]"
      ]
     },
     "execution_count": 34,
     "metadata": {},
     "output_type": "execute_result"
    }
   ],
   "source": [
    "train_users=train_users.drop('id','gender','signup_method','signup_app','language','affiliate_channel','affiliate_provider','first_affiliate_tracked','country_destination','first_device_type')\n",
    "train_users.dtypes"
   ]
  },
  {
   "cell_type": "code",
   "execution_count": 35,
   "metadata": {},
   "outputs": [],
   "source": [
    "# Import the relevant packages.\n",
    "from pyspark.ml.feature import (VectorAssembler,VectorIndexer,OneHotEncoder,StringIndexer)\n",
    "assembler = VectorAssembler(inputCols=['age','signup_flow','dfaction','dftype',\n",
    "                                       'secs','df_language','df_affiliate_channel','df_affiliate_provider',\n",
    "                                       'df_first_affiliate_tracked','df_first_device_type',\n",
    "                                       'df_gender','df_signup_method','df_signup_app'], outputCol=\"features\")"
   ]
  },
  {
   "cell_type": "markdown",
   "metadata": {},
   "source": [
    "One-hot-encoder"
   ]
  },
  {
   "cell_type": "code",
   "execution_count": 36,
   "metadata": {},
   "outputs": [],
   "source": [
    "from pyspark.ml import Pipeline\n",
    "# Then go through our steps. It's essentially sequential to the above.\n",
    "pipeline = Pipeline(stages=[assembler])\n",
    "# Now that we've got a number of steps, let's apply it to the DataFrame.\n",
    "pipeline_model = pipeline.fit(train_users)\n",
    "# Incorporate results into a new DataFrame.\n",
    "pipe_df = pipeline_model.transform(train_users)\n",
    "# Remove all variables other than features and label. \n",
    "pipe_df = pipe_df.select('label', 'features')"
   ]
  },
  {
   "cell_type": "markdown",
   "metadata": {},
   "source": [
    "LogisticRegression Model--0.9/0.1"
   ]
  },
  {
   "cell_type": "code",
   "execution_count": 41,
   "metadata": {},
   "outputs": [
    {
     "name": "stdout",
     "output_type": "stream",
     "text": [
      "+-----+--------------------+--------------------+--------------------+----------+\n",
      "|label|            features|       rawPrediction|         probability|prediction|\n",
      "+-----+--------------------+--------------------+--------------------+----------+\n",
      "|    0|(16,[0,1,3,6,8,12...|[0.45353982714303...|[0.61148052920249...|       0.0|\n",
      "|    0|(16,[0,1,3,6,8,14...|[0.19396962524839...|[0.54834093545495...|       0.0|\n",
      "+-----+--------------------+--------------------+--------------------+----------+\n",
      "only showing top 2 rows\n",
      "\n"
     ]
    }
   ],
   "source": [
    "from pyspark.ml.classification import LogisticRegression\n",
    "\n",
    "# Split our data. Note that the new DataFrame is being used.\n",
    "train_data, test_data = pipe_df.randomSplit([0.9,0.1])\n",
    "lr_model = LogisticRegression(featuresCol='features',labelCol='label')\n",
    "# Fit the model.\n",
    "lr_model = lr_model.fit(train_data)\n",
    "\n",
    "# And evaluate the model using the test data.\n",
    "results = lr_model.transform(test_data)\n",
    "\n",
    "results.show(2)"
   ]
  },
  {
   "cell_type": "code",
   "execution_count": 42,
   "metadata": {},
   "outputs": [
    {
     "name": "stdout",
     "output_type": "stream",
     "text": [
      "LogisticRegression accuracy: 0.629018492176387\n"
     ]
    }
   ],
   "source": [
    "from pyspark.ml.evaluation import MulticlassClassificationEvaluator\n",
    "evaluator = MulticlassClassificationEvaluator(\n",
    "    labelCol=\"label\", predictionCol=\"prediction\",metricName=\"accuracy\")\n",
    "lr_accuracy = evaluator.evaluate(results)\n",
    "\n",
    "print('LogisticRegression accuracy: ' + str(lr_accuracy))"
   ]
  },
  {
   "cell_type": "code",
   "execution_count": 37,
   "metadata": {},
   "outputs": [],
   "source": [
    "train_data, test_data = pipe_df.randomSplit([0.7,0.3])"
   ]
  },
  {
   "cell_type": "markdown",
   "metadata": {},
   "source": [
    "GBTClassifier"
   ]
  },
  {
   "cell_type": "code",
   "execution_count": 35,
   "metadata": {},
   "outputs": [
    {
     "name": "stdout",
     "output_type": "stream",
     "text": [
      "+----------+-----+--------------------+\n",
      "|prediction|label|            features|\n",
      "+----------+-----+--------------------+\n",
      "|       1.0|    0|(13,[0,2,3,4,6,7,...|\n",
      "|       1.0|    0|(13,[0,2,3,4,8,9,...|\n",
      "|       1.0|    0|(13,[0,2,3,4,8,10...|\n",
      "|       1.0|    0|(13,[0,2,3,4,8,12...|\n",
      "|       1.0|    0|(13,[0,2,3,4,9,10...|\n",
      "+----------+-----+--------------------+\n",
      "only showing top 5 rows\n",
      "\n"
     ]
    }
   ],
   "source": [
    "from pyspark.ml import Pipeline\n",
    "from pyspark.ml.classification import GBTClassifier\n",
    "from pyspark.ml.feature import StringIndexer, VectorIndexer\n",
    "from pyspark.ml.evaluation import MulticlassClassificationEvaluator\n",
    "train_data, test_data = pipe_df.randomSplit([0.7,0.3])\n",
    "# Train a GBT model.\n",
    "gbt = GBTClassifier(labelCol=\"label\", featuresCol=\"features\", maxIter=10)\n",
    "# Chain indexers and GBT in a Pipeline\n",
    "pipeline = Pipeline(stages=[ gbt])\n",
    "# Train model.  This also runs the indexers.\n",
    "gbt_model = pipeline.fit(train_data)\n",
    "# Make predictions.\n",
    "gbt_result = gbt_model.transform(test_data)\n",
    "# Select example rows to display.\n",
    "gbt_result.select(\"prediction\", \"label\", \"features\").show(5)"
   ]
  },
  {
   "cell_type": "code",
   "execution_count": 36,
   "metadata": {},
   "outputs": [
    {
     "name": "stdout",
     "output_type": "stream",
     "text": [
      "GBTClassifier accuracy: 0.6386427898209237\n"
     ]
    }
   ],
   "source": [
    "# Select (prediction, true label) and compute test error\n",
    "evaluator = MulticlassClassificationEvaluator(\n",
    "    labelCol=\"label\", predictionCol=\"prediction\", metricName=\"accuracy\")\n",
    "gbt_accuracy = evaluator.evaluate(gbt_result) \n",
    "print('GBTClassifier accuracy: ' + str(gbt_accuracy))"
   ]
  },
  {
   "cell_type": "markdown",
   "metadata": {},
   "source": [
    "LogisticRegression Model--0.7/0.3"
   ]
  },
  {
   "cell_type": "code",
   "execution_count": 34,
   "metadata": {},
   "outputs": [],
   "source": [
    "from pyspark.ml.classification import LogisticRegression\n",
    "\n",
    "# Split our data. Note that the new DataFrame is being used.\n",
    "train_data, test_data = pipe_df.randomSplit([0.7,0.3])\n",
    "#print(\"Training Dataset Count: \" + str(train_data.count()))\n",
    "#print(\"Test Dataset Count: \" + str(test_data.count()))\n",
    "# Instantiate the model.\n",
    "lr_model2 = LogisticRegression(featuresCol='features',labelCol='label')\n",
    "# Fit the model.\n",
    "lr_model2 = lr_model2.fit(train_data)\n",
    "\n",
    "# And evaluate the model using the test data.\n",
    "lr_results2 = lr_model2.transform(test_data)"
   ]
  },
  {
   "cell_type": "code",
   "execution_count": 35,
   "metadata": {},
   "outputs": [
    {
     "name": "stdout",
     "output_type": "stream",
     "text": [
      "LogisticRegression accuracy: 0.6355682358535426\n"
     ]
    }
   ],
   "source": [
    "from pyspark.ml.evaluation import MulticlassClassificationEvaluator\n",
    "evaluator = MulticlassClassificationEvaluator(\n",
    "    labelCol=\"label\", predictionCol=\"prediction\",metricName=\"accuracy\")\n",
    "lr_accuracy2 = evaluator.evaluate(lr_results2)\n",
    "\n",
    "print('LogisticRegression accuracy: ' + str(lr_accuracy2))"
   ]
  },
  {
   "cell_type": "code",
   "execution_count": 44,
   "metadata": {},
   "outputs": [],
   "source": [
    "from pyspark.sql.functions import exp\n",
    "fields=[x[\"name\"] for x in sorted(\n",
    "   pipe_df.schema[\"features\"].metadata[\"ml_attr\"][\"attrs\"][\"numeric\"], \n",
    "   key=lambda x: x[\"idx\"])]"
   ]
  },
  {
   "cell_type": "code",
   "execution_count": 45,
   "metadata": {},
   "outputs": [
    {
     "name": "stdout",
     "output_type": "stream",
     "text": [
      "df_gender                      :    0.08\n",
      "df_affiliate_provider          :    0.04\n",
      "dfaction                       :    0.00\n",
      "secs                           :   -0.00\n",
      "age                            :   -0.01\n",
      "signup_flow                    :   -0.01\n",
      "dftype                         :   -0.02\n",
      "df_language                    :   -0.03\n",
      "df_affiliate_channel           :   -0.05\n",
      "df_first_affiliate_tracked     :   -0.06\n",
      "df_first_device_type           :   -0.11\n",
      "df_signup_app                  :   -0.15\n",
      "df_signup_method               :   -0.99\n"
     ]
    }
   ],
   "source": [
    "keys = fields\n",
    "values = lr_model2.coefficients\n",
    "dictionary = dict(zip(keys, values))\n",
    "sorted_by_value = sorted(dictionary.items(), key=lambda kv: kv[1],reverse=True)\n",
    "for key,value in sorted_by_value :\n",
    "    print ('{:30s} : {:7.2f}'.format(key,value))"
   ]
  },
  {
   "cell_type": "code",
   "execution_count": 47,
   "metadata": {},
   "outputs": [
    {
     "data": {
      "image/png": "[encoded data removed]",
      "text/plain": [
       "<Figure size 432x288 with 1 Axes>"
      ]
     },
     "metadata": {},
     "output_type": "display_data"
    }
   ],
   "source": [
    "import matplotlib.pyplot as plt\n",
    "import numpy as np\n",
    "\n",
    "# Visualising the coefficients. Sort from lowest to highest.\n",
    "beta = np.sort(lr_model2.coefficients)\n",
    "# Plot the data.\n",
    "plt.plot(beta)\n",
    "# Add a label to the data.\n",
    "plt.ylabel('Beta Coefficients')\n",
    "# Show the graph. \n",
    "plt.show()"
   ]
  },
  {
   "cell_type": "code",
   "execution_count": 37,
   "metadata": {},
   "outputs": [
    {
     "data": {
      "image/png": "[encoded data removed]",
      "text/plain": [
       "<Figure size 432x288 with 1 Axes>"
      ]
     },
     "metadata": {},
     "output_type": "display_data"
    },
    {
     "name": "stdout",
     "output_type": "stream",
     "text": [
      "Area Under the Curve: 0.6734341203572751\n"
     ]
    }
   ],
   "source": [
    "import matplotlib.pyplot as plt\n",
    "import numpy as np\n",
    "# Let's get a summary of the data.\n",
    "training_summary = lr_model2.summary\n",
    "\n",
    "# Convert the DataFrame to a Pandas DataFrame.\n",
    "ROC = training_summary.roc.toPandas()\n",
    "\n",
    "# Plot the true positive and false positive rates.\n",
    "plt.plot(ROC['FPR'],ROC['TPR'])\n",
    "\n",
    "# Define the labels.\n",
    "plt.ylabel('True Positive Rate')\n",
    "plt.xlabel('False Positive Rate')\n",
    "plt.title('ROC Curve')\n",
    "plt.show()\n",
    "\n",
    "# Print the AUC statistic. \n",
    "print('Area Under the Curve: ' + str(training_summary.areaUnderROC))"
   ]
  },
  {
   "cell_type": "code",
   "execution_count": 48,
   "metadata": {},
   "outputs": [
    {
     "data": {
      "image/png": "[encoded data removed]",
      "text/plain": [
       "<Figure size 432x288 with 1 Axes>"
      ]
     },
     "metadata": {},
     "output_type": "display_data"
    }
   ],
   "source": [
    "# Convert DataFrame to Pandas DataFrame.\n",
    "pr = training_summary.pr.toPandas()\n",
    "\n",
    "# Plot model recall and precision.\n",
    "plt.plot(pr['recall'],pr['precision'])\n",
    "\n",
    "# Define the labels and show the graph. \n",
    "plt.ylabel('Precision')\n",
    "plt.xlabel('Recall')\n",
    "plt.show()"
   ]
  },
  {
   "cell_type": "markdown",
   "metadata": {},
   "source": [
    "NaiveBayes---"
   ]
  },
  {
   "cell_type": "code",
   "execution_count": 38,
   "metadata": {},
   "outputs": [],
   "source": [
    "from pyspark.ml.classification import NaiveBayes\n",
    "#train, test= pipe_df.randomSplit([0.7,0.3])\n",
    "nb = NaiveBayes(smoothing=1)\n",
    "model = nb.fit(train_data)\n",
    "nb_predictions = model.transform(test_data)\n"
   ]
  },
  {
   "cell_type": "code",
   "execution_count": 39,
   "metadata": {},
   "outputs": [
    {
     "name": "stdout",
     "output_type": "stream",
     "text": [
      "NaiveBayes accuracy: 0.5500235294117647\n"
     ]
    }
   ],
   "source": [
    "from pyspark.ml.evaluation import MulticlassClassificationEvaluator\n",
    "evaluator = MulticlassClassificationEvaluator(\n",
    "    labelCol=\"label\", predictionCol=\"prediction\",metricName=\"accuracy\")\n",
    "nb_accuracy = evaluator.evaluate(nb_predictions)\n",
    "\n",
    "print('NaiveBayes accuracy: ' + str(nb_accuracy))"
   ]
  },
  {
   "cell_type": "markdown",
   "metadata": {},
   "source": [
    "RandomForest--"
   ]
  },
  {
   "cell_type": "code",
   "execution_count": 38,
   "metadata": {},
   "outputs": [],
   "source": [
    "from pyspark.ml import Pipeline\n",
    "from pyspark.ml.classification import RandomForestClassifier\n",
    "from pyspark.ml.feature import IndexToString, StringIndexer, VectorIndexer\n",
    "from pyspark.ml.evaluation import MulticlassClassificationEvaluator\n",
    "#train_data, test_data = pipe_df.randomSplit([0.7,0.3])\n",
    "# Train a RandomForest model.\n",
    "rf = RandomForestClassifier(labelCol=\"label\", featuresCol=\"features\", numTrees=10)  \n",
    "# Train model.  This also runs the indexers.\n",
    "rf_model = rf.fit(train_data) \n",
    "# Make predictions.\n",
    "rf_result = rf_model.transform(test_data)"
   ]
  },
  {
   "cell_type": "code",
   "execution_count": 42,
   "metadata": {},
   "outputs": [
    {
     "name": "stdout",
     "output_type": "stream",
     "text": [
      "RandomForest accuracy: 0.6354823529411765\n"
     ]
    }
   ],
   "source": [
    "from pyspark.ml.evaluation import MulticlassClassificationEvaluator\n",
    "evaluator = MulticlassClassificationEvaluator(\n",
    "    labelCol=\"label\", predictionCol=\"prediction\",metricName=\"accuracy\")\n",
    "rf_accuracy = evaluator.evaluate(rf_result)\n",
    "\n",
    "print('RandomForest accuracy: ' + str(rf_accuracy))"
   ]
  }
 ],
 "metadata": {
  "kernelspec": {
   "display_name": "Python 3",
   "language": "python",
   "name": "python3"
  },
  "language_info": {
   "codemirror_mode": {
    "name": "ipython",
    "version": 3
   },
   "file_extension": ".py",
   "mimetype": "text/x-python",
   "name": "python",
   "nbconvert_exporter": "python",
   "pygments_lexer": "ipython3",
   "version": "3.5.2"
  }
 },
 "nbformat": 4,
 "nbformat_minor": 2
}
